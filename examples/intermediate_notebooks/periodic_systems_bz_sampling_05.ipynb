{
 "cells": [
  {
   "cell_type": "markdown",
   "metadata": {},
   "source": [
    "[![Open In Colab](https://colab.research.google.com/assets/colab-badge.svg)](https://colab.research.google.com/github/XanaduAI/GradDFT/blob/main/examples/intermediate_notebooks/periodic_systems_bz_sampling_05.ipynb)"
   ]
  },
  {
   "cell_type": "code",
   "execution_count": null,
   "metadata": {},
   "outputs": [],
   "source": [
    "# In colab run\n",
    "# !pip install git+https://github.com/XanaduAI/GradDFT.git"
   ]
  },
  {
   "cell_type": "markdown",
   "metadata": {},
   "source": [
    "# Periodic systems with k-point sampling in Grad DFT\n",
    "\n",
    "In this tutorial, you will learn how to train a simple neural functional for solids with full integration over the 1BZ. Calculations in this tutorial are certainly not converged with respect to k-point sampling or basis sets, so please consider this when adapting to your own calculations.\n",
    "\n",
    "## Perform solid-state calculations with PySCF\n",
    "\n",
    "PySCF implements DFT and some wavefunction methods in periodic boundary conditions with integration over the 1BZ. To begin, we need:\n",
    "\n",
    "(1) A DFT starting point to prime Grad DFT. We'll use the PBE functional.\n",
    "\n",
    "(2) Accurate training and validation data. We'll use the periodic CCSD solver implemented in PySCF.\n",
    "\n",
    "Our calculations will be run using Sodium Chloride (NaCl) in the rock salt structure.\n",
    "\n",
    "Let's import the modules required for the PySCF pre-computations."
   ]
  },
  {
   "cell_type": "code",
   "execution_count": 1,
   "metadata": {},
   "outputs": [
    {
     "name": "stderr",
     "output_type": "stream",
     "text": [
      "/Users/pablo.casares/miniforge3/envs/graddft/lib/python3.10/site-packages/pyscf/dft/libxc.py:772: UserWarning: Since PySCF-2.3, B3LYP (and B3P86) are changed to the VWN-RPA variant, the same to the B3LYP functional in Gaussian and ORCA (issue 1480). To restore the VWN5 definition, you can put the setting \"B3LYP_WITH_VWN5 = True\" in pyscf_conf.py\n",
      "  warnings.warn('Since PySCF-2.3, B3LYP (and B3P86) are changed to the VWN-RPA variant, '\n"
     ]
    }
   ],
   "source": [
    "from pyscf.pbc import gto, scf, mp, cc\n",
    "import numpy as np"
   ]
  },
  {
   "cell_type": "markdown",
   "metadata": {},
   "source": [
    "Next, we define the primitive cell for NaCl in the Rocksalt struture. This structural data was taken from [The Materials Project](https://next-gen.materialsproject.org/materials/mp-22862). \n",
    "\n",
    "We will train using the pristine geometry and validate using a slightly expanded cell."
   ]
  },
  {
   "cell_type": "code",
   "execution_count": 2,
   "metadata": {},
   "outputs": [],
   "source": [
    "# Training geometry: pristine NaCl\n",
    "\n",
    "param = 5.272336\n",
    "lat_vec = np.array(\n",
    "    [\n",
    "        [0.0, param, param],\n",
    "        [param, 0.0, param],\n",
    "        [param, param, 0.0]\n",
    "    ]\n",
    ")\n",
    "\n",
    "cell_tr = gto.M(\n",
    "    a = lat_vec,\n",
    "    atom = \"\"\"Na 0.0 0.0 0.0\n",
    "              Cl %.5f %.5f %.5f\"\"\" % (param, param, param),\n",
    "    basis = 'sto-3g',\n",
    ")\n",
    "cell_tr.exp_to_discard=0.1\n",
    "\n",
    "# Validation geometry: NaCl with a 5% larger lattice parameter\n",
    "\n",
    "param_strain = param*1.05\n",
    "lat_vec_strain = np.array(\n",
    "    [\n",
    "        [0.0, param_strain, param_strain],\n",
    "        [param_strain, 0.0, param_strain],\n",
    "        [param_strain, param_strain, 0.0]\n",
    "    ]\n",
    ")\n",
    "cell_val = gto.M(\n",
    "    a = lat_vec_strain,\n",
    "    atom = \"\"\"Na 0.0 0.0 0.0 \n",
    "              Cl %.5f %.5f %.5f\"\"\" % (param_strain, param_strain, param_strain),\n",
    "    basis = 'sto-3g'\n",
    ")\n",
    "cell_val.exp_to_discard=0.1"
   ]
  },
  {
   "cell_type": "markdown",
   "metadata": {},
   "source": [
    "Next, we get the DFT starting point to prime Grad DFT. We use PBE and a small number of k-points. We also use Gaussian density fitting for the electronic coulomb terms. [All other PBC density fitting approaches](https://pyscf.org/user/pbc/df.html) in PySCF are also compatible with Grad DFT."
   ]
  },
  {
   "cell_type": "code",
   "execution_count": 3,
   "metadata": {},
   "outputs": [
    {
     "name": "stderr",
     "output_type": "stream",
     "text": [
      "<class 'pyscf.pbc.dft.krks.KRKS'> does not have attributes  nlcgrids nlc\n"
     ]
    },
    {
     "name": "stdout",
     "output_type": "stream",
     "text": [
      "\n",
      "WARN: HOMO 0.133342844043 == LUMO 0.133342844043\n",
      "\n",
      "\n",
      "WARN: HOMO 0.129696510302 == LUMO 0.129696796143\n",
      "\n",
      "\n",
      "WARN: HOMO 0.123485609714 == LUMO 0.123533794981\n",
      "\n",
      "\n",
      "WARN: HOMO 0.122470342913 == LUMO 0.122549417589\n",
      "\n",
      "\n",
      "WARN: HOMO 0.121977200489 == LUMO 0.121984450283\n",
      "\n",
      "\n",
      "WARN: HOMO 0.127199590342 == LUMO 0.127215372837\n",
      "\n",
      "\n",
      "WARN: HOMO 0.127429516524 == LUMO 0.127576695046\n",
      "\n",
      "SCF not converged.\n",
      "SCF energy = -613.999831522497\n",
      "\n",
      "WARN: HOMO 0.136411628811 == LUMO 0.136411628812\n",
      "\n",
      "\n",
      "WARN: HOMO 0.113400677255 == LUMO 0.113620213224\n",
      "\n",
      "\n",
      "WARN: HOMO 0.114848903144 == LUMO 0.115097636252\n",
      "\n",
      "\n",
      "WARN: HOMO 0.178814138743 == LUMO 0.17892358234\n",
      "\n",
      "\n",
      "WARN: HOMO 0.180008068011 == LUMO 0.180066156279\n",
      "\n",
      "\n",
      "WARN: HOMO 0.179951129106 == LUMO 0.179972904236\n",
      "\n",
      "SCF not converged.\n",
      "SCF energy = -613.984277821783\n"
     ]
    }
   ],
   "source": [
    "# Run training DFT starting point\n",
    "kmf_tr = scf.KRKS(cell_tr, kpts=cell_tr.make_kpts([2,2,2])).density_fit()\n",
    "kmf_tr.xc = \"PBE\"\n",
    "kmf_tr.max_cycle = 10\n",
    "kmf_tr = kmf_tr.run()\n",
    "\n",
    "# Run validation DFT starting point\n",
    "kmf_val = scf.KRKS(cell_val, kpts=cell_val.make_kpts([2,2,2])).density_fit()\n",
    "kmf_val.xc = \"PBE\"\n",
    "kmf_val.max_cycle = 10\n",
    "kmf_val = kmf_val.run()"
   ]
  },
  {
   "cell_type": "markdown",
   "metadata": {},
   "source": [
    "Now we can perform the CCSD calculations which will be used for truth values in training."
   ]
  },
  {
   "cell_type": "code",
   "execution_count": 4,
   "metadata": {},
   "outputs": [
    {
     "name": "stdout",
     "output_type": "stream",
     "text": [
      "converged SCF energy = -614.443314677291\n",
      "E(RCCSD) = -614.4825393595149  E_corr = -0.03922468222342719\n",
      "converged SCF energy = -614.434597523731\n",
      "E(RCCSD) = -614.4738196894269  E_corr = -0.03922216569629406\n"
     ]
    }
   ],
   "source": [
    "# Make one training data-point and one validation using CCSD\n",
    "\n",
    "# Training\n",
    "khf_tr = scf.KRHF(cell_tr, kpts=cell_tr.make_kpts([2,2,2])).density_fit()\n",
    "khf_tr = khf_tr.run()\n",
    "ccsd_tr = cc.KCCSD(khf_tr)\n",
    "ccsd_tr = ccsd_tr.run()\n",
    "E_tr = ccsd_tr.e_tot\n",
    "\n",
    "\n",
    "# Validation\n",
    "khf_val = scf.KRHF(cell_val, kpts=cell_val.make_kpts([2,2,2])).density_fit()\n",
    "khf_val = khf_val.run()\n",
    "ccsd_val = cc.KCCSD(khf_val)\n",
    "ccsd_val = ccsd_val.run()\n",
    "E_val = ccsd_val.e_tot\n"
   ]
  },
  {
   "cell_type": "markdown",
   "metadata": {},
   "source": [
    "## Loading into Grad DFT\n",
    "\n",
    "The DFT starting points from PySCF can be loaded into Grad DFT with the convenience function `solid_from_pyscf`. This mirrors `molecule_from_pyscf` but now many arrays have an additional k-points dimension."
   ]
  },
  {
   "cell_type": "code",
   "execution_count": 5,
   "metadata": {},
   "outputs": [
    {
     "name": "stdout",
     "output_type": "stream",
     "text": [
      "WARNING:tensorflow:From /Users/pablo.casares/miniforge3/envs/graddft/lib/python3.10/site-packages/tensorflow/python/compat/v2_compat.py:107: disable_resource_variables (from tensorflow.python.ops.variable_scope) is deprecated and will be removed in a future version.\n",
      "Instructions for updating:\n",
      "non-resource variables are not supported in the long term\n"
     ]
    }
   ],
   "source": [
    "from jax.config import config\n",
    "config.update(\"jax_enable_x64\", True)\n",
    "import grad_dft as gd\n",
    "\n",
    "gd_sol_tr = gd.solid_from_pyscf(kmf_tr)\n",
    "gd_sol_val = gd.solid_from_pyscf(kmf_val)"
   ]
  },
  {
   "cell_type": "markdown",
   "metadata": {},
   "source": [
    "## Make a simple neural functional\n",
    "\n",
    "Like in `~/examples/intermediate_notebooks/training_methods_03.ipynb`, we create a scaled down version of the net used the original Grad DFT reference article"
   ]
  },
  {
   "cell_type": "code",
   "execution_count": 6,
   "metadata": {},
   "outputs": [],
   "source": [
    "from grad_dft.functional import canonicalize_inputs, dm21_coefficient_inputs, dm21_densities\n",
    "from jax.nn import gelu\n",
    "from functools import partial\n",
    "import jax.numpy as jnp\n",
    "from jax.random import PRNGKey\n",
    "\n",
    "seed = 1984 # Random seed used throughout this notebok for reproducibility reasons.\n",
    "key = PRNGKey(seed)\n",
    "\n",
    "squash_offset = 1e-4\n",
    "layer_widths = [6] * 2\n",
    "\n",
    "out_features = 2\n",
    "sigmoid_scale_factor = 2.0\n",
    "activation = gelu\n",
    "\n",
    "def nn_coefficients(instance, rhoinputs, *_, **__):\n",
    "    x = canonicalize_inputs(rhoinputs)  # Making sure dimensions are correct\n",
    "    # Initial layer: log -> dense -> tanh\n",
    "    x = jnp.log(jnp.abs(x) + squash_offset)  # squash_offset = 1e-4\n",
    "    instance.sow(\"intermediates\", \"log\", x)\n",
    "    x = instance.dense(features=layer_widths[0])(x)  # features = 256\n",
    "    instance.sow(\"intermediates\", \"initial_dense\", x)\n",
    "    x = jnp.tanh(x)\n",
    "    instance.sow(\"intermediates\", \"norm\", x)\n",
    "    # 2 Residual blocks with 6-features dense layer and layer norm\n",
    "    for features, i in zip(layer_widths, range(len(layer_widths))):  # layer_widths = [256]*6\n",
    "        res = x\n",
    "        x = instance.dense(features=features)(x)\n",
    "        instance.sow(\"intermediates\", \"residual_dense_\" + str(i), x)\n",
    "        x = x + res  # nn.Dense + Residual connection\n",
    "        instance.sow(\"intermediates\", \"residual_residual_\" + str(i), x)\n",
    "        x = instance.layer_norm()(x)  # + res # nn.LayerNorm\n",
    "        instance.sow(\"intermediates\", \"residual_layernorm_\" + str(i), x)\n",
    "        x = activation(x)  # activation = jax.nn.gelu\n",
    "        instance.sow(\"intermediates\", \"residual_elu_\" + str(i), x)\n",
    "    return instance.head(x, out_features, sigmoid_scale_factor)\n",
    "        \n",
    "functional = gd.NeuralFunctional(\n",
    "    coefficients=nn_coefficients,\n",
    "    coefficient_inputs=dm21_coefficient_inputs,\n",
    "    energy_densities=partial(dm21_densities, functional_type=\"GGA\"),\n",
    ")"
   ]
  },
  {
   "cell_type": "markdown",
   "metadata": {},
   "source": [
    "## Non self-consistent training using the energy only\n",
    "\n",
    "Once again, borrowing from `~/examples/intermediate_notebooks/training_methods_03.ipynb`, we define a training and validation regime"
   ]
  },
  {
   "cell_type": "code",
   "execution_count": 7,
   "metadata": {},
   "outputs": [],
   "source": [
    "from optax import adam, apply_updates\n",
    "from tqdm import tqdm\n",
    "from jax import value_and_grad\n",
    "\n",
    "def train_neural_functional(train_recipe: tuple, validate_recipe: tuple) -> None:\n",
    "    r\"\"\"Minimize a Grad DFT loss function using 50 epochs of the Adam optimizer.\n",
    "\n",
    "    Args:\n",
    "        train_recipe (tuple):train_recipe (tuple): information regarding the loss, its arguments and the predictor.\n",
    "        validate_recipe (tuple):train_recipe (tuple): the same information as train_recipe, but for the validation calculation.\n",
    "    Returns:\n",
    "        tuple: the training and validation loss history over the number of training epochs\n",
    "    \"\"\"\n",
    "    \n",
    "    loss_func, loss_args = train_recipe\n",
    "    val_func, val_args = validate_recipe\n",
    "    \n",
    "    tr_params = functional.init(key, dm21_coefficient_inputs(loss_args[2][0]))\n",
    "    loss_args[0] = tr_params\n",
    "    val_args[0] = tr_params\n",
    "    \n",
    "    tx = adam(learning_rate=0.01, b1=0.9)\n",
    "    opt_state = tx.init(tr_params)\n",
    "    loss_and_grad = value_and_grad(loss_func)\n",
    "    tr_loss_history = []\n",
    "    val_loss_history = []\n",
    "    for i in tqdm(range(10), desc=\"Training epoch\"):\n",
    "        tr_loss_value, grads = loss_and_grad(*loss_args)\n",
    "        val_loss_value = val_func(*val_args)\n",
    "        tr_loss_history.append(tr_loss_value)\n",
    "        val_loss_history.append(val_loss_value)\n",
    "        updates, opt_state = tx.update(grads, opt_state, tr_params)\n",
    "        tr_params = apply_updates(tr_params, updates)\n",
    "        loss_args[0] = tr_params\n",
    "        val_args[0] = tr_params\n",
    "        if (i + 1) % 5 == 0:\n",
    "            print(f\"At epoch {i+1} training loss = {tr_loss_value}, validation loss = {val_loss_value}\")\n",
    "    return tr_loss_history, val_loss_history\n",
    "   "
   ]
  },
  {
   "cell_type": "code",
   "execution_count": 8,
   "metadata": {},
   "outputs": [],
   "source": [
    "non_sc_en_train_recipe = (\n",
    "    gd.mse_energy_loss, \n",
    "    [None, gd.non_scf_predictor(functional), [gd_sol_tr], [E_tr], True]\n",
    ")\n",
    "non_sc_en_validate_recipe = (\n",
    "    gd.mse_energy_loss, \n",
    "    [None, gd.non_scf_predictor(functional), [gd_sol_val], [E_val], True]\n",
    ")"
   ]
  },
  {
   "cell_type": "markdown",
   "metadata": {},
   "source": [
    "Now we can perform the non-self consistent training."
   ]
  },
  {
   "cell_type": "code",
   "execution_count": 9,
   "metadata": {},
   "outputs": [
    {
     "name": "stderr",
     "output_type": "stream",
     "text": [
      "Training epoch:  50%|█████     | 5/10 [01:11<01:08, 13.70s/it]"
     ]
    },
    {
     "name": "stdout",
     "output_type": "stream",
     "text": [
      "At epoch 5 training loss = 0.00021681184278852755, validation loss = 0.00022157386004632528\n"
     ]
    },
    {
     "name": "stderr",
     "output_type": "stream",
     "text": [
      "Training epoch: 100%|██████████| 10/10 [02:17<00:00, 13.78s/it]"
     ]
    },
    {
     "name": "stdout",
     "output_type": "stream",
     "text": [
      "At epoch 10 training loss = 3.611312949052283e-07, validation loss = 1.7956748122185697e-07\n"
     ]
    },
    {
     "name": "stderr",
     "output_type": "stream",
     "text": [
      "\n"
     ]
    }
   ],
   "source": [
    "# Begin training\n",
    "tr_loss_his_non_sc_en, val_loss_his_non_sc_en = train_neural_functional(non_sc_en_train_recipe, non_sc_en_validate_recipe)"
   ]
  },
  {
   "cell_type": "markdown",
   "metadata": {},
   "source": [
    "and check out the loss as a function of epochs"
   ]
  },
  {
   "cell_type": "code",
   "execution_count": 10,
   "metadata": {},
   "outputs": [
    {
     "data": {
      "text/plain": [
       "<matplotlib.legend.Legend at 0x289af39d0>"
      ]
     },
     "execution_count": 10,
     "metadata": {},
     "output_type": "execute_result"
    },
    {
     "data": {
      "image/png": "[encoded data removed]",
      "text/plain": [
       "<Figure size 640x480 with 1 Axes>"
      ]
     },
     "metadata": {},
     "output_type": "display_data"
    }
   ],
   "source": [
    "import matplotlib.pyplot as plt\n",
    "\n",
    "plt.plot(tr_loss_his_non_sc_en, label=\"Training loss\")\n",
    "plt.plot(val_loss_his_non_sc_en, label=\"Validation loss\")\n",
    "plt.ylabel(\"Loss\")\n",
    "plt.xlabel(\"Epochs\")\n",
    "plt.title(\"Non-SCF training: MSE energy loss\")\n",
    "plt.grid()\n",
    "plt.legend()"
   ]
  },
  {
   "cell_type": "markdown",
   "metadata": {},
   "source": [
    "## Self-consistent training using the energy only\n",
    "\n",
    "Training can also be performed in self consistent mode. Solids are presently supported in the linear mixing code: `gd.diff_simple_scf_loop`.\n"
   ]
  },
  {
   "cell_type": "code",
   "execution_count": 11,
   "metadata": {},
   "outputs": [],
   "source": [
    "sc_en_train_recipe = (\n",
    "    gd.mse_energy_loss, \n",
    "    [None, gd.diff_simple_scf_loop(functional, cycles=5), [gd_sol_tr], [E_tr], True]\n",
    ")\n",
    "sc_en_validate_recipe = (\n",
    "    gd.mse_energy_loss, \n",
    "    [None, gd.diff_simple_scf_loop(functional, cycles=5), [gd_sol_val], [E_val], True]\n",
    ")"
   ]
  },
  {
   "cell_type": "code",
   "execution_count": 12,
   "metadata": {},
   "outputs": [
    {
     "name": "stderr",
     "output_type": "stream",
     "text": [
      "Training epoch:  50%|█████     | 5/10 [10:38<10:36, 127.31s/it]"
     ]
    },
    {
     "name": "stdout",
     "output_type": "stream",
     "text": [
      "At epoch 5 training loss = 0.00012283809515136498, validation loss = 0.00012489890222459223\n"
     ]
    },
    {
     "name": "stderr",
     "output_type": "stream",
     "text": [
      "Training epoch: 100%|██████████| 10/10 [21:38<00:00, 129.80s/it]"
     ]
    },
    {
     "name": "stdout",
     "output_type": "stream",
     "text": [
      "At epoch 10 training loss = 0.00016523055544214686, validation loss = 0.00016298261790833693\n"
     ]
    },
    {
     "name": "stderr",
     "output_type": "stream",
     "text": [
      "\n"
     ]
    }
   ],
   "source": [
    "# Begin training\n",
    "tr_loss_his_sc_en, val_loss_his_sc_en = train_neural_functional(sc_en_train_recipe, sc_en_validate_recipe)"
   ]
  },
  {
   "cell_type": "code",
   "execution_count": 13,
   "metadata": {},
   "outputs": [
    {
     "data": {
      "text/plain": [
       "<matplotlib.legend.Legend at 0x28c7ad8d0>"
      ]
     },
     "execution_count": 13,
     "metadata": {},
     "output_type": "execute_result"
    },
    {
     "data": {
      "image/png": "[encoded data removed]",
      "text/plain": [
       "<Figure size 640x480 with 1 Axes>"
      ]
     },
     "metadata": {},
     "output_type": "display_data"
    }
   ],
   "source": [
    "import matplotlib.pyplot as plt\n",
    "\n",
    "plt.plot(tr_loss_his_sc_en, label=\"Training loss\")\n",
    "plt.plot(val_loss_his_sc_en, label=\"Validation loss\")\n",
    "plt.ylabel(\"Loss\")\n",
    "plt.xlabel(\"Epochs\")\n",
    "plt.title(\"SCF training: MSE energy loss\")\n",
    "plt.grid()\n",
    "plt.legend()"
   ]
  }
 ],
 "metadata": {
  "kernelspec": {
   "display_name": "nan_check",
   "language": "python",
   "name": "python3"
  },
  "language_info": {
   "codemirror_mode": {
    "name": "ipython",
    "version": 3
   },
   "file_extension": ".py",
   "mimetype": "text/x-python",
   "name": "python",
   "nbconvert_exporter": "python",
   "pygments_lexer": "ipython3",
   "version": "3.10.12"
  }
 },
 "nbformat": 4,
 "nbformat_minor": 2
}
