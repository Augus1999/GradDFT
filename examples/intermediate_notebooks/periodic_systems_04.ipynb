{
 "cells": [
  {
   "cell_type": "markdown",
   "metadata": {},
   "source": [
    "# Periodic systems in Grad DFT\n",
    "\n",
    "In this tutorial, you will learn how to train a simple neural functional for solids. Presently, we only support periodic calculations where Brillouin Zone (BZ) samping is performed at the $\\Gamma$-point. This converges the electronic structure only at the large supercell limit. We won't work with large supercells in this tutorial, so for accurate results, please consider this.\n",
    "\n",
    "Full BZ sampling will be coming soon.\n",
    "\n",
    "## Perform solid-state calculations with PySCF\n",
    "\n",
    "PySCF implements DFT and some wavefunction methods in periodic boundary conditions with integration over the first BZ. To begin, we need:\n",
    "\n",
    "(1) A DFT starting point to prime Grad DFT. Let's use the LDA.\n",
    "\n",
    "(2) Accurate training and validation data. We'll use the periodic Coupled Cluster Singles and Doubles (CCSD) implemented in PySCF\n",
    "\n",
    "Our calculations will be run using carbon in the diamond structure."
   ]
  },
  {
   "cell_type": "code",
   "execution_count": 1,
   "metadata": {},
   "outputs": [
    {
     "name": "stderr",
     "output_type": "stream",
     "text": [
      "/Users/jack.baker/miniconda3/envs/nan_check/lib/python3.10/site-packages/pyscf/dft/libxc.py:772: UserWarning: Since PySCF-2.3, B3LYP (and B3P86) are changed to the VWN-RPA variant, the same to the B3LYP functional in Gaussian and ORCA (issue 1480). To restore the VWN5 definition, you can put the setting \"B3LYP_WITH_VWN5 = True\" in pyscf_conf.py\n",
      "  warnings.warn('Since PySCF-2.3, B3LYP (and B3P86) are changed to the VWN-RPA variant, '\n",
      "<class 'pyscf.pbc.dft.krks.KRKS'> does not have attributes  nlcgrids nlc\n"
     ]
    },
    {
     "name": "stdout",
     "output_type": "stream",
     "text": [
      "converged SCF energy = -42.8062140980971\n",
      "converged SCF energy = -42.8206602020094\n"
     ]
    }
   ],
   "source": [
    "# DFT\n",
    "\n",
    "from pyscf.pbc import gto, scf\n",
    "import numpy as np\n",
    "\n",
    "# Training geometry\n",
    "cell_tr = gto.M(\n",
    "    a = np.eye(3)*3.5668,\n",
    "    atom = '''C     0.      0.      0.    \n",
    "              C     0.8917  0.8917  0.8917\n",
    "              C     1.7834  1.7834  0.    \n",
    "              C     2.6751  2.6751  0.8917\n",
    "              C     1.7834  0.      1.7834\n",
    "              C     2.6751  0.8917  2.6751\n",
    "              C     0.      1.7834  1.7834\n",
    "              C     0.8917  2.6751  2.6751''',\n",
    "    basis = 'sto-3g',\n",
    "    pseudo = 'gth-pade',\n",
    ")\n",
    "\n",
    "# Validation geometry: cell expanded by 3%\n",
    "cell_val = gto.M(\n",
    "    a = np.eye(3)*3.5668*1.03,\n",
    "    atom = '''C     0.      0.      0.    \n",
    "              C     0.8917  0.8917  0.8917\n",
    "              C     1.7834  1.7834  0.    \n",
    "              C     2.6751  2.6751  0.8917\n",
    "              C     1.7834  0.      1.7834\n",
    "              C     2.6751  0.8917  2.6751\n",
    "              C     0.      1.7834  1.7834\n",
    "              C     0.8917  2.6751  2.6751''',\n",
    "    basis = 'sto-3g',\n",
    "    pseudo = 'gth-pade',\n",
    ")\n",
    "\n",
    "# Run training DFT starting point\n",
    "kmf_tr = scf.KRKS(cell_tr, kpts=cell_tr.make_kpts([1,1,1])).density_fit()\n",
    "kmf_tr.xc = \"LDA\"\n",
    "kmf_tr = kmf_tr.run()\n",
    "\n",
    "# Run validation DFT starting point\n",
    "kmf_val = scf.KRKS(cell_val, kpts=cell_val.make_kpts([1,1,1])).density_fit()\n",
    "kmf_val.xc = \"LDA\"\n",
    "kmf_val = kmf_val.run()"
   ]
  },
  {
   "cell_type": "code",
   "execution_count": 2,
   "metadata": {},
   "outputs": [
    {
     "name": "stdout",
     "output_type": "stream",
     "text": [
      "converged SCF energy = -43.6458490406153\n",
      "E(RCCSD) = -43.96945435783168  E_corr = -0.3236053172163934\n",
      "converged SCF energy = -43.6169208430434\n",
      "E(RCCSD) = -43.96249507025142  E_corr = -0.3455742272080577\n"
     ]
    }
   ],
   "source": [
    "# Make one training data-point and one validation using CCSD\n",
    "from pyscf import cc\n",
    "\n",
    "# Training\n",
    "khf_tr = scf.RHF(cell_tr).density_fit()\n",
    "khf_tr.kernel()\n",
    "mycc_tr = cc.CCSD(khf_tr)\n",
    "mycc_tr.kernel()\n",
    "E_tr = mycc_tr.e_tot\n",
    "\n",
    "# Validation\n",
    "khf_val = scf.RHF(cell_val).density_fit()\n",
    "khf_val.kernel()\n",
    "mycc_val = cc.CCSD(khf_val)\n",
    "mycc_val.kernel()\n",
    "E_val = mycc_val.e_tot\n"
   ]
  },
  {
   "cell_type": "markdown",
   "metadata": {},
   "source": [
    "## Loading into Grad DFT\n",
    "\n",
    "When performing $\\Gamma$-point calculations, workflows in Grad DFT are no different to the molcular case with open boundary conditions. We can therefor make a Grad DFT `Molecule` just as like we did with molecular systems"
   ]
  },
  {
   "cell_type": "code",
   "execution_count": 3,
   "metadata": {},
   "outputs": [
    {
     "name": "stdout",
     "output_type": "stream",
     "text": [
      "WARNING:tensorflow:From /Users/jack.baker/miniconda3/envs/nan_check/lib/python3.10/site-packages/tensorflow/python/compat/v2_compat.py:107: disable_resource_variables (from tensorflow.python.ops.variable_scope) is deprecated and will be removed in a future version.\n",
      "Instructions for updating:\n",
      "non-resource variables are not supported in the long term\n"
     ]
    },
    {
     "name": "stderr",
     "output_type": "stream",
     "text": [
      "WARNING: All log messages before absl::InitializeLog() is called are written to STDERR\n",
      "I0000 00:00:1698444195.665811       1 tfrt_cpu_pjrt_client.cc:349] TfrtCpuClient created.\n",
      "WARNING:tensorflow:From /Users/jack.baker/miniconda3/envs/nan_check/lib/python3.10/site-packages/tensorflow/python/compat/v2_compat.py:107: disable_resource_variables (from tensorflow.python.ops.variable_scope) is deprecated and will be removed in a future version.\n",
      "Instructions for updating:\n",
      "non-resource variables are not supported in the long term\n"
     ]
    }
   ],
   "source": [
    "import grad_dft as gd\n",
    "\n",
    "gd_mol_tr = gd.molecule_from_pyscf(kmf_tr)\n",
    "gd_mol_val = gd.molecule_from_pyscf(kmf_val)"
   ]
  },
  {
   "cell_type": "markdown",
   "metadata": {},
   "source": [
    "## Make a simple neural functional\n",
    "\n",
    "Like in `~/examples/intermediate_notebooks/training_methods_03.ipynb`, we create a scaled down version of the net used the original Grad DFT reference article"
   ]
  },
  {
   "cell_type": "code",
   "execution_count": 4,
   "metadata": {},
   "outputs": [],
   "source": [
    "from grad_dft.functional import canonicalize_inputs, dm21_coefficient_inputs, dm21_densities\n",
    "from jax.nn import gelu\n",
    "from functools import partial\n",
    "import jax.numpy as jnp\n",
    "from jax.random import PRNGKey\n",
    "\n",
    "seed = 1984 # Random seed used throughout this notebok for reproducibility reasons.\n",
    "key = PRNGKey(seed)\n",
    "\n",
    "squash_offset = 1e-4\n",
    "layer_widths = [6] * 2\n",
    "\n",
    "out_features = 2\n",
    "sigmoid_scale_factor = 2.0\n",
    "activation = gelu\n",
    "\n",
    "def nn_coefficients(instance, rhoinputs, *_, **__):\n",
    "    x = canonicalize_inputs(rhoinputs)  # Making sure dimensions are correct\n",
    "    # Initial layer: log -> dense -> tanh\n",
    "    x = jnp.log(jnp.abs(x) + squash_offset)  # squash_offset = 1e-4\n",
    "    instance.sow(\"intermediates\", \"log\", x)\n",
    "    x = instance.dense(features=layer_widths[0])(x)  # features = 256\n",
    "    instance.sow(\"intermediates\", \"initial_dense\", x)\n",
    "    x = jnp.tanh(x)\n",
    "    instance.sow(\"intermediates\", \"norm\", x)\n",
    "    # 2 Residual blocks with 6-features dense layer and layer norm\n",
    "    for features, i in zip(layer_widths, range(len(layer_widths))):  # layer_widths = [256]*6\n",
    "        res = x\n",
    "        x = instance.dense(features=features)(x)\n",
    "        instance.sow(\"intermediates\", \"residual_dense_\" + str(i), x)\n",
    "        x = x + res  # nn.Dense + Residual connection\n",
    "        instance.sow(\"intermediates\", \"residual_residual_\" + str(i), x)\n",
    "        x = instance.layer_norm()(x)  # + res # nn.LayerNorm\n",
    "        instance.sow(\"intermediates\", \"residual_layernorm_\" + str(i), x)\n",
    "        x = activation(x)  # activation = jax.nn.gelu\n",
    "        instance.sow(\"intermediates\", \"residual_elu_\" + str(i), x)\n",
    "    return instance.head(x, out_features, sigmoid_scale_factor)\n",
    "        \n",
    "functional = gd.NeuralFunctional(\n",
    "    coefficients=nn_coefficients,\n",
    "    coefficient_inputs=dm21_coefficient_inputs,\n",
    "    energy_densities=partial(dm21_densities, functional_type=\"GGA\"),\n",
    ")"
   ]
  },
  {
   "cell_type": "markdown",
   "metadata": {},
   "source": [
    "## Non self-consistent training using the energy only\n",
    "\n",
    "Once again, borrowing from `~/examples/intermediate_notebooks/training_methods_03.ipynb`, we define a training and validation regime"
   ]
  },
  {
   "cell_type": "code",
   "execution_count": 5,
   "metadata": {},
   "outputs": [],
   "source": [
    "from optax import adam, apply_updates\n",
    "from tqdm import tqdm\n",
    "from jax import value_and_grad\n",
    "\n",
    "def train_neural_functional(train_recipe: tuple, validate_recipe: tuple) -> None:\n",
    "    r\"\"\"Minimize a Grad DFT loss function using 50 epochs of the Adam optimizer.\n",
    "\n",
    "    Args:\n",
    "        train_recipe (tuple):train_recipe (tuple): information regarding the loss, its arguments and the predictor.\n",
    "        validate_recipe (tuple):train_recipe (tuple): the same information as train_recipe, but for the validation calculation.\n",
    "    Returns:\n",
    "        tuple: the training and validation loss history over the number of training epochs\n",
    "    \"\"\"\n",
    "    \n",
    "    loss_func, loss_args = train_recipe\n",
    "    val_func, val_args = validate_recipe\n",
    "    \n",
    "    tr_params = functional.init(key, dm21_coefficient_inputs(loss_args[2][0]))\n",
    "    loss_args[0] = tr_params\n",
    "    val_args[0] = tr_params\n",
    "    \n",
    "    tx = adam(learning_rate=0.01, b1=0.9)\n",
    "    opt_state = tx.init(tr_params)\n",
    "    loss_and_grad = value_and_grad(loss_func)\n",
    "    tr_loss_history = []\n",
    "    val_loss_history = []\n",
    "    for i in tqdm(range(50), desc=\"Training epoch\"):\n",
    "        tr_loss_value, grads = loss_and_grad(*loss_args)\n",
    "        val_loss_value = val_func(*val_args)\n",
    "        tr_loss_history.append(tr_loss_value)\n",
    "        val_loss_history.append(val_loss_value)\n",
    "        updates, opt_state = tx.update(grads, opt_state, tr_params)\n",
    "        tr_params = apply_updates(tr_params, updates)\n",
    "        loss_args[0] = tr_params\n",
    "        val_args[0] = tr_params\n",
    "        if (i + 1) % 5 == 0:\n",
    "            print(f\"At epoch {i+1} training loss = {tr_loss_value}, validation loss = {val_loss_value}\")\n",
    "    return tr_loss_history, val_loss_history\n",
    "   "
   ]
  },
  {
   "cell_type": "code",
   "execution_count": 6,
   "metadata": {},
   "outputs": [],
   "source": [
    "non_sc_en_train_recipe = (\n",
    "    gd.mse_energy_loss, \n",
    "    [None, gd.non_scf_predictor(functional), [gd_mol_tr], [E_tr], True]\n",
    ")\n",
    "non_sc_en_validate_recipe = (\n",
    "    gd.mse_energy_loss, \n",
    "    [None, gd.non_scf_predictor(functional), [gd_mol_val], [E_val], True]\n",
    ")"
   ]
  },
  {
   "cell_type": "code",
   "execution_count": 7,
   "metadata": {},
   "outputs": [
    {
     "name": "stderr",
     "output_type": "stream",
     "text": [
      "Training epoch:  10%|█         | 5/50 [00:20<02:41,  3.59s/it]"
     ]
    },
    {
     "name": "stdout",
     "output_type": "stream",
     "text": [
      "At epoch 5 training loss = 0.043079033493995667, validation loss = 0.03921736031770706\n"
     ]
    },
    {
     "name": "stderr",
     "output_type": "stream",
     "text": [
      "Training epoch:  20%|██        | 10/50 [00:36<02:10,  3.27s/it]"
     ]
    },
    {
     "name": "stdout",
     "output_type": "stream",
     "text": [
      "At epoch 10 training loss = 0.04007049649953842, validation loss = 0.03619750961661339\n"
     ]
    },
    {
     "name": "stderr",
     "output_type": "stream",
     "text": [
      "Training epoch:  30%|███       | 15/50 [00:52<01:49,  3.13s/it]"
     ]
    },
    {
     "name": "stdout",
     "output_type": "stream",
     "text": [
      "At epoch 15 training loss = 0.03656401112675667, validation loss = 0.03269457444548607\n"
     ]
    },
    {
     "name": "stderr",
     "output_type": "stream",
     "text": [
      "Training epoch:  40%|████      | 20/50 [01:07<01:31,  3.06s/it]"
     ]
    },
    {
     "name": "stdout",
     "output_type": "stream",
     "text": [
      "At epoch 20 training loss = 0.03333420678973198, validation loss = 0.029485203325748444\n"
     ]
    },
    {
     "name": "stderr",
     "output_type": "stream",
     "text": [
      "Training epoch:  50%|█████     | 25/50 [01:22<01:16,  3.05s/it]"
     ]
    },
    {
     "name": "stdout",
     "output_type": "stream",
     "text": [
      "At epoch 25 training loss = 0.031050637364387512, validation loss = 0.027226585894823074\n"
     ]
    },
    {
     "name": "stderr",
     "output_type": "stream",
     "text": [
      "Training epoch:  60%|██████    | 30/50 [01:37<01:01,  3.07s/it]"
     ]
    },
    {
     "name": "stdout",
     "output_type": "stream",
     "text": [
      "At epoch 30 training loss = 0.029322460293769836, validation loss = 0.025524627417325974\n"
     ]
    },
    {
     "name": "stderr",
     "output_type": "stream",
     "text": [
      "Training epoch:  70%|███████   | 35/50 [01:53<00:45,  3.04s/it]"
     ]
    },
    {
     "name": "stdout",
     "output_type": "stream",
     "text": [
      "At epoch 35 training loss = 0.027797438204288483, validation loss = 0.024028219282627106\n"
     ]
    },
    {
     "name": "stderr",
     "output_type": "stream",
     "text": [
      "Training epoch:  80%|████████  | 40/50 [02:08<00:30,  3.05s/it]"
     ]
    },
    {
     "name": "stdout",
     "output_type": "stream",
     "text": [
      "At epoch 40 training loss = 0.026362689211964607, validation loss = 0.022624390199780464\n"
     ]
    },
    {
     "name": "stderr",
     "output_type": "stream",
     "text": [
      "Training epoch:  90%|█████████ | 45/50 [02:23<00:15,  3.04s/it]"
     ]
    },
    {
     "name": "stdout",
     "output_type": "stream",
     "text": [
      "At epoch 45 training loss = 0.025005806237459183, validation loss = 0.021302491426467896\n"
     ]
    },
    {
     "name": "stderr",
     "output_type": "stream",
     "text": [
      "Training epoch: 100%|██████████| 50/50 [02:38<00:00,  3.18s/it]"
     ]
    },
    {
     "name": "stdout",
     "output_type": "stream",
     "text": [
      "At epoch 50 training loss = 0.02384057268500328, validation loss = 0.020170828327536583\n"
     ]
    },
    {
     "name": "stderr",
     "output_type": "stream",
     "text": [
      "\n"
     ]
    }
   ],
   "source": [
    "# Begin training\n",
    "tr_loss_his_non_sc_en, val_loss_his_non_sc_en = train_neural_functional(non_sc_en_train_recipe, non_sc_en_validate_recipe)"
   ]
  },
  {
   "cell_type": "code",
   "execution_count": 8,
   "metadata": {},
   "outputs": [
    {
     "data": {
      "text/plain": [
       "<matplotlib.legend.Legend at 0x3034b5300>"
      ]
     },
     "execution_count": 8,
     "metadata": {},
     "output_type": "execute_result"
    },
    {
     "data": {
      "image/png": "[encoded data removed]",
      "text/plain": [
       "<Figure size 640x480 with 1 Axes>"
      ]
     },
     "metadata": {},
     "output_type": "display_data"
    }
   ],
   "source": [
    "import matplotlib.pyplot as plt\n",
    "\n",
    "plt.plot(tr_loss_his_non_sc_en, label=\"Training loss\")\n",
    "plt.plot(val_loss_his_non_sc_en, label=\"Validation loss\")\n",
    "plt.ylabel(\"Loss\")\n",
    "plt.xlabel(\"Epochs\")\n",
    "plt.title(\"Non-SCF training: MSE energy loss\")\n",
    "plt.grid()\n",
    "plt.legend()"
   ]
  },
  {
   "cell_type": "markdown",
   "metadata": {},
   "source": [
    "and that's all there is! Remember, full BZ sampling is coming soon!"
   ]
  }
 ],
 "metadata": {
  "kernelspec": {
   "display_name": "nan_check",
   "language": "python",
   "name": "python3"
  },
  "language_info": {
   "codemirror_mode": {
    "name": "ipython",
    "version": 3
   },
   "file_extension": ".py",
   "mimetype": "text/x-python",
   "name": "python",
   "nbconvert_exporter": "python",
   "pygments_lexer": "ipython3",
   "version": "3.10.13"
  }
 },
 "nbformat": 4,
 "nbformat_minor": 2
}
